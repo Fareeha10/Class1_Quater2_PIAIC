{
  "nbformat": 4,
  "nbformat_minor": 0,
  "metadata": {
    "colab": {
      "name": "numpy class1q2.ipynb",
      "provenance": [],
      "collapsed_sections": [],
      "include_colab_link": true
    },
    "kernelspec": {
      "name": "python3",
      "display_name": "Python 3"
    }
  },
  "cells": [
    {
      "cell_type": "markdown",
      "metadata": {
        "id": "view-in-github",
        "colab_type": "text"
      },
      "source": [
        "<a href=\"https://colab.research.google.com/github/Fareeha10/Class1_Quater2_PIAIC/blob/master/numpy_class1q2.ipynb\" target=\"_parent\"><img src=\"https://colab.research.google.com/assets/colab-badge.svg\" alt=\"Open In Colab\"/></a>"
      ]
    },
    {
      "cell_type": "code",
      "metadata": {
        "id": "rY0V6wIUaAPE",
        "colab_type": "code",
        "colab": {}
      },
      "source": [
        "\n",
        "a = [1,12,21,33,4,3,45,23,5,6]"
      ],
      "execution_count": 0,
      "outputs": []
    },
    {
      "cell_type": "code",
      "metadata": {
        "id": "CsgsFNYXaP8K",
        "colab_type": "code",
        "colab": {
          "base_uri": "https://localhost:8080/",
          "height": 34
        },
        "outputId": "846f7467-a637-4baf-c4fc-7493222f8d54"
      },
      "source": [
        "%time\n",
        "res= []\n",
        "for i in a:\n",
        "  res.append(i*5)\n",
        "res"
      ],
      "execution_count": 3,
      "outputs": [
        {
          "output_type": "execute_result",
          "data": {
            "text/plain": [
              "[5, 60, 105, 165, 20, 15, 225, 115, 25, 30]"
            ]
          },
          "metadata": {
            "tags": []
          },
          "execution_count": 3
        }
      ]
    },
    {
      "cell_type": "code",
      "metadata": {
        "id": "DyL2yI_lam2S",
        "colab_type": "code",
        "colab": {}
      },
      "source": [
        "import numpy as np"
      ],
      "execution_count": 0,
      "outputs": []
    },
    {
      "cell_type": "code",
      "metadata": {
        "id": "smsJnWDuav2a",
        "colab_type": "code",
        "colab": {}
      },
      "source": [
        "a = np.array([1,12,21,33,4,3,45,23,5,6])  #alternative to previous method"
      ],
      "execution_count": 0,
      "outputs": []
    },
    {
      "cell_type": "code",
      "metadata": {
        "id": "ArU0xSoHbDUK",
        "colab_type": "code",
        "colab": {
          "base_uri": "https://localhost:8080/",
          "height": 34
        },
        "outputId": "c172be21-d80c-4cfe-f6d0-014b090fc42a"
      },
      "source": [
        "a*5"
      ],
      "execution_count": 12,
      "outputs": [
        {
          "output_type": "execute_result",
          "data": {
            "text/plain": [
              "array([  5,  60, 105, 165,  20,  15, 225, 115,  25,  30])"
            ]
          },
          "metadata": {
            "tags": []
          },
          "execution_count": 12
        }
      ]
    },
    {
      "cell_type": "code",
      "metadata": {
        "id": "bmQnXhfkc9U4",
        "colab_type": "code",
        "colab": {}
      },
      "source": [
        "numpyArray = np.array([22,34,43,21], dtype=np.int8)   #dtype data type here we convert int to flost viceversa\n",
        "#32 bits   through np. we don't write it in string it ok"
      ],
      "execution_count": 0,
      "outputs": []
    },
    {
      "cell_type": "code",
      "metadata": {
        "id": "ACFhz8PkdI2C",
        "colab_type": "code",
        "colab": {
          "base_uri": "https://localhost:8080/",
          "height": 51
        },
        "outputId": "28df3240-8b72-4391-be60-138366fbb4a2"
      },
      "source": [
        "print(type(numpyArray)) \n",
        "(numpyArray)"
      ],
      "execution_count": 22,
      "outputs": [
        {
          "output_type": "stream",
          "text": [
            "<class 'numpy.ndarray'>\n"
          ],
          "name": "stdout"
        },
        {
          "output_type": "execute_result",
          "data": {
            "text/plain": [
              "array([22, 34, 43, 21], dtype=int8)"
            ]
          },
          "metadata": {
            "tags": []
          },
          "execution_count": 22
        }
      ]
    },
    {
      "cell_type": "code",
      "metadata": {
        "id": "YGdgAwLddY4P",
        "colab_type": "code",
        "colab": {
          "base_uri": "https://localhost:8080/",
          "height": 34
        },
        "outputId": "31b4676b-65df-46fe-8ac5-ede7b799f1b6"
      },
      "source": [
        "randomArr = np.random.randint(10) # here int \n",
        "randomArr"
      ],
      "execution_count": 24,
      "outputs": [
        {
          "output_type": "execute_result",
          "data": {
            "text/plain": [
              "3"
            ]
          },
          "metadata": {
            "tags": []
          },
          "execution_count": 24
        }
      ]
    },
    {
      "cell_type": "code",
      "metadata": {
        "id": "ByTaYOxNfB3d",
        "colab_type": "code",
        "colab": {
          "base_uri": "https://localhost:8080/",
          "height": 68
        },
        "outputId": "157e3b8d-1402-48d6-a166-663c58fb3d5d"
      },
      "source": [
        "randomArr = np.random.randn(10)*10 # here equal distribution \n",
        "randomArr #result is vectors"
      ],
      "execution_count": 25,
      "outputs": [
        {
          "output_type": "execute_result",
          "data": {
            "text/plain": [
              "array([  7.70692448,  -0.4200601 ,   6.02449319,  13.08200523,\n",
              "         2.31961042, -12.02390867,  -5.54712454,  -6.32535677,\n",
              "        -2.18931587,  -2.38007436])"
            ]
          },
          "metadata": {
            "tags": []
          },
          "execution_count": 25
        }
      ]
    },
    {
      "cell_type": "code",
      "metadata": {
        "id": "eA1LaTycfiyD",
        "colab_type": "code",
        "colab": {
          "base_uri": "https://localhost:8080/",
          "height": 34
        },
        "outputId": "82b98d22-131b-4672-ed97-d4a67462d3e9"
      },
      "source": [
        "randomArr.ndim #demension of vector"
      ],
      "execution_count": 26,
      "outputs": [
        {
          "output_type": "execute_result",
          "data": {
            "text/plain": [
              "1"
            ]
          },
          "metadata": {
            "tags": []
          },
          "execution_count": 26
        }
      ]
    },
    {
      "cell_type": "code",
      "metadata": {
        "id": "S_x96kazhBXO",
        "colab_type": "code",
        "colab": {
          "base_uri": "https://localhost:8080/",
          "height": 34
        },
        "outputId": "23746133-7be0-426a-b008-c228dc9419d5"
      },
      "source": [
        "randomArr.shape"
      ],
      "execution_count": 27,
      "outputs": [
        {
          "output_type": "execute_result",
          "data": {
            "text/plain": [
              "(10,)"
            ]
          },
          "metadata": {
            "tags": []
          },
          "execution_count": 27
        }
      ]
    },
    {
      "cell_type": "code",
      "metadata": {
        "id": "71J-n-TwhOaZ",
        "colab_type": "code",
        "colab": {
          "base_uri": "https://localhost:8080/",
          "height": 85
        },
        "outputId": "9897d4c6-8f44-4b8d-bda5-032feeb2cc29"
      },
      "source": [
        "twoD = np.array([[3,2,4],[1,2,3],[4,8,0],[9,7,6]])\n",
        "twoD"
      ],
      "execution_count": 31,
      "outputs": [
        {
          "output_type": "execute_result",
          "data": {
            "text/plain": [
              "array([[3, 2, 4],\n",
              "       [1, 2, 3],\n",
              "       [4, 8, 0],\n",
              "       [9, 7, 6]])"
            ]
          },
          "metadata": {
            "tags": []
          },
          "execution_count": 31
        }
      ]
    },
    {
      "cell_type": "code",
      "metadata": {
        "id": "1Ia2nRPpiosq",
        "colab_type": "code",
        "colab": {
          "base_uri": "https://localhost:8080/",
          "height": 34
        },
        "outputId": "a75b116c-7118-4ad9-8a78-f955168a575a"
      },
      "source": [
        "twoD.shape"
      ],
      "execution_count": 29,
      "outputs": [
        {
          "output_type": "execute_result",
          "data": {
            "text/plain": [
              "(4, 3)"
            ]
          },
          "metadata": {
            "tags": []
          },
          "execution_count": 29
        }
      ]
    },
    {
      "cell_type": "code",
      "metadata": {
        "id": "gdZH7Cq4itCc",
        "colab_type": "code",
        "colab": {}
      },
      "source": [
        "zeroD = np.array(100)"
      ],
      "execution_count": 0,
      "outputs": []
    },
    {
      "cell_type": "code",
      "metadata": {
        "id": "d7dW1XaKjezh",
        "colab_type": "code",
        "colab": {
          "base_uri": "https://localhost:8080/",
          "height": 34
        },
        "outputId": "c037d3ba-edff-4116-a87a-885acf8885f7"
      },
      "source": [
        "zeroD.ndim  #scalar quatity"
      ],
      "execution_count": 34,
      "outputs": [
        {
          "output_type": "execute_result",
          "data": {
            "text/plain": [
              "0"
            ]
          },
          "metadata": {
            "tags": []
          },
          "execution_count": 34
        }
      ]
    },
    {
      "cell_type": "code",
      "metadata": {
        "id": "uCB2-8ILjhGI",
        "colab_type": "code",
        "colab": {
          "base_uri": "https://localhost:8080/",
          "height": 34
        },
        "outputId": "ca96a928-f0e0-47dc-fd6d-f863f68dc08c"
      },
      "source": [
        "zeroD.shape"
      ],
      "execution_count": 35,
      "outputs": [
        {
          "output_type": "execute_result",
          "data": {
            "text/plain": [
              "()"
            ]
          },
          "metadata": {
            "tags": []
          },
          "execution_count": 35
        }
      ]
    },
    {
      "cell_type": "code",
      "metadata": {
        "id": "YSk3L99Jju_W",
        "colab_type": "code",
        "colab": {
          "base_uri": "https://localhost:8080/",
          "height": 68
        },
        "outputId": "99045e56-b11e-48c5-ebc0-6a6e95853f7d"
      },
      "source": [
        "miscD = np.array([[[[99]]]]) \n",
        "print(miscD)\n",
        "print(miscD.ndim)\n",
        "print(miscD.shape)"
      ],
      "execution_count": 42,
      "outputs": [
        {
          "output_type": "stream",
          "text": [
            "[[[[99]]]]\n",
            "4\n",
            "(1, 1, 1, 1)\n"
          ],
          "name": "stdout"
        }
      ]
    },
    {
      "cell_type": "code",
      "metadata": {
        "id": "OJnqeTXOkYC4",
        "colab_type": "code",
        "colab": {
          "base_uri": "https://localhost:8080/",
          "height": 85
        },
        "outputId": "59d4418a-e21e-4d83-9467-692fbbaa7d46"
      },
      "source": [
        "a = np.arange(12).reshape(4,3) # in numpy range = arange\n",
        "a"
      ],
      "execution_count": 44,
      "outputs": [
        {
          "output_type": "execute_result",
          "data": {
            "text/plain": [
              "array([[ 0,  1,  2],\n",
              "       [ 3,  4,  5],\n",
              "       [ 6,  7,  8],\n",
              "       [ 9, 10, 11]])"
            ]
          },
          "metadata": {
            "tags": []
          },
          "execution_count": 44
        }
      ]
    },
    {
      "cell_type": "code",
      "metadata": {
        "id": "aZCAhwF3llA1",
        "colab_type": "code",
        "colab": {}
      },
      "source": [
        "flat = np.ravel(a)"
      ],
      "execution_count": 0,
      "outputs": []
    },
    {
      "cell_type": "code",
      "metadata": {
        "id": "-cGCTE34mPbG",
        "colab_type": "code",
        "colab": {
          "base_uri": "https://localhost:8080/",
          "height": 34
        },
        "outputId": "1fd5fed7-b451-42e2-e373-cd997324e45d"
      },
      "source": [
        "flat"
      ],
      "execution_count": 46,
      "outputs": [
        {
          "output_type": "execute_result",
          "data": {
            "text/plain": [
              "array([ 0,  1,  2,  3,  4,  5,  6,  7,  8,  9, 10, 11])"
            ]
          },
          "metadata": {
            "tags": []
          },
          "execution_count": 46
        }
      ]
    },
    {
      "cell_type": "code",
      "metadata": {
        "id": "Dccawbu1mRG0",
        "colab_type": "code",
        "colab": {}
      },
      "source": [
        "flat = flat.reshape(12)"
      ],
      "execution_count": 0,
      "outputs": []
    },
    {
      "cell_type": "code",
      "metadata": {
        "id": "fXj8a3UWmhhd",
        "colab_type": "code",
        "colab": {
          "base_uri": "https://localhost:8080/",
          "height": 34
        },
        "outputId": "2fd9aceb-69e7-49e9-f984-e357e69a6e64"
      },
      "source": [
        "flat"
      ],
      "execution_count": 49,
      "outputs": [
        {
          "output_type": "execute_result",
          "data": {
            "text/plain": [
              "array([ 0,  1,  2,  3,  4,  5,  6,  7,  8,  9, 10, 11])"
            ]
          },
          "metadata": {
            "tags": []
          },
          "execution_count": 49
        }
      ]
    },
    {
      "cell_type": "code",
      "metadata": {
        "id": "fg7uh2AQngLm",
        "colab_type": "code",
        "colab": {}
      },
      "source": [
        "ez = a.reshape(3,4)"
      ],
      "execution_count": 0,
      "outputs": []
    },
    {
      "cell_type": "code",
      "metadata": {
        "id": "etYz_O-XntWf",
        "colab_type": "code",
        "colab": {
          "base_uri": "https://localhost:8080/",
          "height": 68
        },
        "outputId": "70b33737-6c02-40f9-af5a-8349e4f6f90a"
      },
      "source": [
        "ez"
      ],
      "execution_count": 77,
      "outputs": [
        {
          "output_type": "execute_result",
          "data": {
            "text/plain": [
              "array([[ 0,  1,  2,  3],\n",
              "       [ 4,  5,  6,  7],\n",
              "       [ 8,  9, 10, 11]])"
            ]
          },
          "metadata": {
            "tags": []
          },
          "execution_count": 77
        }
      ]
    },
    {
      "cell_type": "code",
      "metadata": {
        "id": "OaucqLchn3HG",
        "colab_type": "code",
        "colab": {}
      },
      "source": [
        "r= np.ravel(ez)"
      ],
      "execution_count": 0,
      "outputs": []
    },
    {
      "cell_type": "code",
      "metadata": {
        "id": "1ROTHr73oE7k",
        "colab_type": "code",
        "colab": {
          "base_uri": "https://localhost:8080/",
          "height": 34
        },
        "outputId": "5fe07156-bfa2-4085-dcac-118cba024b7d"
      },
      "source": [
        "r"
      ],
      "execution_count": 55,
      "outputs": [
        {
          "output_type": "execute_result",
          "data": {
            "text/plain": [
              "array([ 0,  1,  2,  3,  4,  5,  6,  7,  8,  9, 10, 11])"
            ]
          },
          "metadata": {
            "tags": []
          },
          "execution_count": 55
        }
      ]
    },
    {
      "cell_type": "code",
      "metadata": {
        "id": "-WNN8K77oF3D",
        "colab_type": "code",
        "colab": {}
      },
      "source": [
        "twD = np.arange(36).reshape(6,6)"
      ],
      "execution_count": 0,
      "outputs": []
    },
    {
      "cell_type": "code",
      "metadata": {
        "id": "MxpcPuKGok1c",
        "colab_type": "code",
        "colab": {
          "base_uri": "https://localhost:8080/",
          "height": 119
        },
        "outputId": "b2eb93b6-5ee4-464e-9055-341f2930ecd3"
      },
      "source": [
        "twD"
      ],
      "execution_count": 59,
      "outputs": [
        {
          "output_type": "execute_result",
          "data": {
            "text/plain": [
              "array([[ 0,  1,  2,  3,  4,  5],\n",
              "       [ 6,  7,  8,  9, 10, 11],\n",
              "       [12, 13, 14, 15, 16, 17],\n",
              "       [18, 19, 20, 21, 22, 23],\n",
              "       [24, 25, 26, 27, 28, 29],\n",
              "       [30, 31, 32, 33, 34, 35]])"
            ]
          },
          "metadata": {
            "tags": []
          },
          "execution_count": 59
        }
      ]
    },
    {
      "cell_type": "code",
      "metadata": {
        "id": "olV-KThLol8v",
        "colab_type": "code",
        "colab": {}
      },
      "source": [
        "threeD = twD.reshape(3,3,4)"
      ],
      "execution_count": 0,
      "outputs": []
    },
    {
      "cell_type": "code",
      "metadata": {
        "id": "k5bRl3UOpIu5",
        "colab_type": "code",
        "colab": {
          "base_uri": "https://localhost:8080/",
          "height": 204
        },
        "outputId": "ba62796f-baad-4597-8370-ce012b929c32"
      },
      "source": [
        "threeD"
      ],
      "execution_count": 61,
      "outputs": [
        {
          "output_type": "execute_result",
          "data": {
            "text/plain": [
              "array([[[ 0,  1,  2,  3],\n",
              "        [ 4,  5,  6,  7],\n",
              "        [ 8,  9, 10, 11]],\n",
              "\n",
              "       [[12, 13, 14, 15],\n",
              "        [16, 17, 18, 19],\n",
              "        [20, 21, 22, 23]],\n",
              "\n",
              "       [[24, 25, 26, 27],\n",
              "        [28, 29, 30, 31],\n",
              "        [32, 33, 34, 35]]])"
            ]
          },
          "metadata": {
            "tags": []
          },
          "execution_count": 61
        }
      ]
    },
    {
      "cell_type": "code",
      "metadata": {
        "id": "10py3ImApKRs",
        "colab_type": "code",
        "colab": {}
      },
      "source": [
        "backtwD = threeD.reshape(6,6)  #give same reshape parameters"
      ],
      "execution_count": 0,
      "outputs": []
    },
    {
      "cell_type": "code",
      "metadata": {
        "id": "OgaEGShZpo1Q",
        "colab_type": "code",
        "colab": {
          "base_uri": "https://localhost:8080/",
          "height": 119
        },
        "outputId": "f2c3f3dd-adae-455f-a6dc-a59d9e35528a"
      },
      "source": [
        "backtwD"
      ],
      "execution_count": 63,
      "outputs": [
        {
          "output_type": "execute_result",
          "data": {
            "text/plain": [
              "array([[ 0,  1,  2,  3,  4,  5],\n",
              "       [ 6,  7,  8,  9, 10, 11],\n",
              "       [12, 13, 14, 15, 16, 17],\n",
              "       [18, 19, 20, 21, 22, 23],\n",
              "       [24, 25, 26, 27, 28, 29],\n",
              "       [30, 31, 32, 33, 34, 35]])"
            ]
          },
          "metadata": {
            "tags": []
          },
          "execution_count": 63
        }
      ]
    },
    {
      "cell_type": "code",
      "metadata": {
        "id": "JroZ0Vt8prA7",
        "colab_type": "code",
        "colab": {}
      },
      "source": [
        "new3D = np.array([[[1,2,1],[4,5,3],[9,0,9]],[[9,5,6],[5,4,3],[0,8,7]]])"
      ],
      "execution_count": 0,
      "outputs": []
    },
    {
      "cell_type": "code",
      "metadata": {
        "id": "cSgGiyxHqjks",
        "colab_type": "code",
        "colab": {
          "base_uri": "https://localhost:8080/",
          "height": 136
        },
        "outputId": "326c448b-fc05-4aa2-8609-745b9b1b2f8e"
      },
      "source": [
        "new3D"
      ],
      "execution_count": 71,
      "outputs": [
        {
          "output_type": "execute_result",
          "data": {
            "text/plain": [
              "array([[[1, 2, 1],\n",
              "        [4, 5, 3],\n",
              "        [9, 0, 9]],\n",
              "\n",
              "       [[9, 5, 6],\n",
              "        [5, 4, 3],\n",
              "        [0, 8, 7]]])"
            ]
          },
          "metadata": {
            "tags": []
          },
          "execution_count": 71
        }
      ]
    },
    {
      "cell_type": "code",
      "metadata": {
        "id": "fvSya10QqlWD",
        "colab_type": "code",
        "colab": {}
      },
      "source": [
        "#[[elements]] 2d\n",
        "#[[[elements]]] 3d"
      ],
      "execution_count": 0,
      "outputs": []
    },
    {
      "cell_type": "code",
      "metadata": {
        "id": "dLNuIBQKrSiG",
        "colab_type": "code",
        "colab": {}
      },
      "source": [
        "# no need for if else in numpy"
      ],
      "execution_count": 0,
      "outputs": []
    },
    {
      "cell_type": "code",
      "metadata": {
        "id": "HvlzGLuTrh7U",
        "colab_type": "code",
        "colab": {}
      },
      "source": [
        "#to add tensor for that shape must be same"
      ],
      "execution_count": 0,
      "outputs": []
    },
    {
      "cell_type": "code",
      "metadata": {
        "id": "ybcXxQzCvcUg",
        "colab_type": "code",
        "colab": {}
      },
      "source": [
        "#if shape is different\n",
        "m1 = np.arange(12).reshape(4,3)"
      ],
      "execution_count": 0,
      "outputs": []
    },
    {
      "cell_type": "code",
      "metadata": {
        "id": "hwrUPI9rwdK_",
        "colab_type": "code",
        "colab": {}
      },
      "source": [
        "m2 = np.random.randn(12).reshape(4,3)"
      ],
      "execution_count": 0,
      "outputs": []
    },
    {
      "cell_type": "code",
      "metadata": {
        "id": "lAxkexlFwutR",
        "colab_type": "code",
        "colab": {
          "base_uri": "https://localhost:8080/",
          "height": 85
        },
        "outputId": "b119f6cb-3c8d-43e6-c117-cc114ff32feb"
      },
      "source": [
        "m1+m2"
      ],
      "execution_count": 80,
      "outputs": [
        {
          "output_type": "execute_result",
          "data": {
            "text/plain": [
              "array([[-2.08466385,  2.41545949,  3.94943851],\n",
              "       [ 3.89584457,  5.48059253,  5.94190765],\n",
              "       [ 6.71831912,  6.85402309,  9.13229097],\n",
              "       [ 7.62705571, 10.17037222, 10.33234471]])"
            ]
          },
          "metadata": {
            "tags": []
          },
          "execution_count": 80
        }
      ]
    },
    {
      "cell_type": "code",
      "metadata": {
        "id": "dfg7ERpjww93",
        "colab_type": "code",
        "colab": {
          "base_uri": "https://localhost:8080/",
          "height": 85
        },
        "outputId": "f5603e37-5f83-41f8-8ec2-17b8cade31c1"
      },
      "source": [
        "m1-m2"
      ],
      "execution_count": 81,
      "outputs": [
        {
          "output_type": "execute_result",
          "data": {
            "text/plain": [
              "array([[ 2.08466385, -0.41545949,  0.05056149],\n",
              "       [ 2.10415543,  2.51940747,  4.05809235],\n",
              "       [ 5.28168088,  7.14597691,  6.86770903],\n",
              "       [10.37294429,  9.82962778, 11.66765529]])"
            ]
          },
          "metadata": {
            "tags": []
          },
          "execution_count": 81
        }
      ]
    },
    {
      "cell_type": "code",
      "metadata": {
        "id": "P6vRFHhowzXc",
        "colab_type": "code",
        "colab": {
          "base_uri": "https://localhost:8080/",
          "height": 85
        },
        "outputId": "40129cbc-f764-415f-ed04-d54c8c64b935"
      },
      "source": [
        "m1/m2"
      ],
      "execution_count": 82,
      "outputs": [
        {
          "output_type": "execute_result",
          "data": {
            "text/plain": [
              "array([[ -0.        ,   0.70648437,   1.02593644],\n",
              "       [  3.34879521,   2.70162108,   5.30837605],\n",
              "       [  8.35283347, -47.95279048,   7.06532174],\n",
              "       [ -6.55525506,  58.69501427, -16.4755678 ]])"
            ]
          },
          "metadata": {
            "tags": []
          },
          "execution_count": 82
        }
      ]
    },
    {
      "cell_type": "code",
      "metadata": {
        "id": "LP6qCDcTw05V",
        "colab_type": "code",
        "colab": {
          "base_uri": "https://localhost:8080/",
          "height": 85
        },
        "outputId": "dd213ae5-2a7e-4fa5-b2c0-ad393fc874ba"
      },
      "source": [
        "m1*m2"
      ],
      "execution_count": 83,
      "outputs": [
        {
          "output_type": "execute_result",
          "data": {
            "text/plain": [
              "array([[ -0.        ,   1.41545949,   3.89887702],\n",
              "       [  2.68753371,   5.92237013,   4.70953824],\n",
              "       [  4.30991473,  -1.02183834,   9.05832775],\n",
              "       [-12.35649861,   1.70372222,  -7.34420819]])"
            ]
          },
          "metadata": {
            "tags": []
          },
          "execution_count": 83
        }
      ]
    },
    {
      "cell_type": "code",
      "metadata": {
        "id": "T_WxOcvUw2uk",
        "colab_type": "code",
        "colab": {}
      },
      "source": [
        "#to * tensors check no of column and row\n",
        "# 1st row should be same to 1st column"
      ],
      "execution_count": 0,
      "outputs": []
    },
    {
      "cell_type": "code",
      "metadata": {
        "id": "v7qAcgc4xFRn",
        "colab_type": "code",
        "colab": {}
      },
      "source": [
        "m3 = np.arange(18).reshape(3,6)"
      ],
      "execution_count": 0,
      "outputs": []
    },
    {
      "cell_type": "code",
      "metadata": {
        "id": "jVymN8pcxHJE",
        "colab_type": "code",
        "colab": {
          "base_uri": "https://localhost:8080/",
          "height": 68
        },
        "outputId": "35797699-d53b-41f0-9e99-2247ba544c45"
      },
      "source": [
        "m3"
      ],
      "execution_count": 89,
      "outputs": [
        {
          "output_type": "execute_result",
          "data": {
            "text/plain": [
              "array([[ 0,  1,  2,  3,  4,  5],\n",
              "       [ 6,  7,  8,  9, 10, 11],\n",
              "       [12, 13, 14, 15, 16, 17]])"
            ]
          },
          "metadata": {
            "tags": []
          },
          "execution_count": 89
        }
      ]
    },
    {
      "cell_type": "code",
      "metadata": {
        "id": "XQco493IyUm4",
        "colab_type": "code",
        "colab": {
          "base_uri": "https://localhost:8080/",
          "height": 85
        },
        "outputId": "d2d479a1-1f39-48ea-e5a4-e74f3080a900"
      },
      "source": [
        "#if m1 * m3 possible viceversa not\n",
        "m1@m3"
      ],
      "execution_count": 90,
      "outputs": [
        {
          "output_type": "execute_result",
          "data": {
            "text/plain": [
              "array([[ 30,  33,  36,  39,  42,  45],\n",
              "       [ 84,  96, 108, 120, 132, 144],\n",
              "       [138, 159, 180, 201, 222, 243],\n",
              "       [192, 222, 252, 282, 312, 342]])"
            ]
          },
          "metadata": {
            "tags": []
          },
          "execution_count": 90
        }
      ]
    },
    {
      "cell_type": "code",
      "metadata": {
        "id": "LbGvT0U7ynaq",
        "colab_type": "code",
        "colab": {}
      },
      "source": [
        "#mirror * is when both tensors are same and use * sign"
      ],
      "execution_count": 0,
      "outputs": []
    },
    {
      "cell_type": "code",
      "metadata": {
        "id": "Hkb5TjAmzDhy",
        "colab_type": "code",
        "colab": {
          "base_uri": "https://localhost:8080/",
          "height": 85
        },
        "outputId": "c807ff76-d01d-4098-bc01-660ba99a2a21"
      },
      "source": [
        "np.dot(m1,m3)  #creating dot product ans is same as *"
      ],
      "execution_count": 92,
      "outputs": [
        {
          "output_type": "execute_result",
          "data": {
            "text/plain": [
              "array([[ 30,  33,  36,  39,  42,  45],\n",
              "       [ 84,  96, 108, 120, 132, 144],\n",
              "       [138, 159, 180, 201, 222, 243],\n",
              "       [192, 222, 252, 282, 312, 342]])"
            ]
          },
          "metadata": {
            "tags": []
          },
          "execution_count": 92
        }
      ]
    },
    {
      "cell_type": "code",
      "metadata": {
        "id": "06p4ZWFvzmPu",
        "colab_type": "code",
        "colab": {
          "base_uri": "https://localhost:8080/",
          "height": 85
        },
        "outputId": "2559e24c-ebb1-41e5-fa16-ec214c582160"
      },
      "source": [
        "m1.dot(m3)"
      ],
      "execution_count": 93,
      "outputs": [
        {
          "output_type": "execute_result",
          "data": {
            "text/plain": [
              "array([[ 30,  33,  36,  39,  42,  45],\n",
              "       [ 84,  96, 108, 120, 132, 144],\n",
              "       [138, 159, 180, 201, 222, 243],\n",
              "       [192, 222, 252, 282, 312, 342]])"
            ]
          },
          "metadata": {
            "tags": []
          },
          "execution_count": 93
        }
      ]
    },
    {
      "cell_type": "code",
      "metadata": {
        "id": "uvf_auRu0eZP",
        "colab_type": "code",
        "colab": {
          "base_uri": "https://localhost:8080/",
          "height": 34
        },
        "outputId": "6c384811-6a8c-43b3-8d35-835a61af9280"
      },
      "source": [
        "zeeeros = np.zeros(4, dtype= 'int8')\n",
        "zeeeros"
      ],
      "execution_count": 95,
      "outputs": [
        {
          "output_type": "execute_result",
          "data": {
            "text/plain": [
              "array([0, 0, 0, 0], dtype=int8)"
            ]
          },
          "metadata": {
            "tags": []
          },
          "execution_count": 95
        }
      ]
    },
    {
      "cell_type": "code",
      "metadata": {
        "id": "3MFOIeAn1A0_",
        "colab_type": "code",
        "colab": {}
      },
      "source": [
        "ones = np.ones((5,5), dtype= 'int8')"
      ],
      "execution_count": 0,
      "outputs": []
    },
    {
      "cell_type": "code",
      "metadata": {
        "id": "VC5XS_I11OSQ",
        "colab_type": "code",
        "colab": {
          "base_uri": "https://localhost:8080/",
          "height": 102
        },
        "outputId": "c3f3c492-4ac1-4fb6-df32-820dd7d21b34"
      },
      "source": [
        "ones"
      ],
      "execution_count": 106,
      "outputs": [
        {
          "output_type": "execute_result",
          "data": {
            "text/plain": [
              "array([[1, 1, 1, 1, 1],\n",
              "       [1, 1, 1, 1, 1],\n",
              "       [1, 1, 1, 1, 1],\n",
              "       [1, 1, 1, 1, 1],\n",
              "       [1, 1, 1, 1, 1]], dtype=int8)"
            ]
          },
          "metadata": {
            "tags": []
          },
          "execution_count": 106
        }
      ]
    },
    {
      "cell_type": "code",
      "metadata": {
        "id": "GarsLb7L1Q8X",
        "colab_type": "code",
        "colab": {}
      },
      "source": [
        "zeeeros = np.zeros((4,4), dtype= 'int8')"
      ],
      "execution_count": 0,
      "outputs": []
    },
    {
      "cell_type": "code",
      "metadata": {
        "id": "YqA2LQTE1mtJ",
        "colab_type": "code",
        "colab": {
          "base_uri": "https://localhost:8080/",
          "height": 85
        },
        "outputId": "a331caea-0eb2-40e6-fa25-0f143566a48e"
      },
      "source": [
        "zeeeros"
      ],
      "execution_count": 101,
      "outputs": [
        {
          "output_type": "execute_result",
          "data": {
            "text/plain": [
              "array([[0, 0, 0, 0],\n",
              "       [0, 0, 0, 0],\n",
              "       [0, 0, 0, 0],\n",
              "       [0, 0, 0, 0]], dtype=int8)"
            ]
          },
          "metadata": {
            "tags": []
          },
          "execution_count": 101
        }
      ]
    },
    {
      "cell_type": "code",
      "metadata": {
        "id": "QXy7j4uT1pBs",
        "colab_type": "code",
        "colab": {
          "base_uri": "https://localhost:8080/",
          "height": 102
        },
        "outputId": "d226a0af-f9af-4c01-f6e8-839da25c4c26"
      },
      "source": [
        "s =ones*7\n",
        "s"
      ],
      "execution_count": 107,
      "outputs": [
        {
          "output_type": "execute_result",
          "data": {
            "text/plain": [
              "array([[7, 7, 7, 7, 7],\n",
              "       [7, 7, 7, 7, 7],\n",
              "       [7, 7, 7, 7, 7],\n",
              "       [7, 7, 7, 7, 7],\n",
              "       [7, 7, 7, 7, 7]], dtype=int8)"
            ]
          },
          "metadata": {
            "tags": []
          },
          "execution_count": 107
        }
      ]
    },
    {
      "cell_type": "code",
      "metadata": {
        "id": "1EDQ1KHH13Dy",
        "colab_type": "code",
        "colab": {}
      },
      "source": [
        "fulll = np.full((4,4),100)"
      ],
      "execution_count": 0,
      "outputs": []
    },
    {
      "cell_type": "code",
      "metadata": {
        "id": "9g1s999H2OO7",
        "colab_type": "code",
        "colab": {
          "base_uri": "https://localhost:8080/",
          "height": 85
        },
        "outputId": "e385e07f-de89-428e-b264-54f63272b812"
      },
      "source": [
        "fulll"
      ],
      "execution_count": 109,
      "outputs": [
        {
          "output_type": "execute_result",
          "data": {
            "text/plain": [
              "array([[100, 100, 100, 100],\n",
              "       [100, 100, 100, 100],\n",
              "       [100, 100, 100, 100],\n",
              "       [100, 100, 100, 100]])"
            ]
          },
          "metadata": {
            "tags": []
          },
          "execution_count": 109
        }
      ]
    },
    {
      "cell_type": "code",
      "metadata": {
        "id": "3ZjIf5e82PdU",
        "colab_type": "code",
        "colab": {}
      },
      "source": [
        "emptyy = np.empty((4,4,4))"
      ],
      "execution_count": 0,
      "outputs": []
    },
    {
      "cell_type": "code",
      "metadata": {
        "id": "4L_H5r4P2X9O",
        "colab_type": "code",
        "colab": {
          "base_uri": "https://localhost:8080/",
          "height": 612
        },
        "outputId": "dd7637e2-5b54-48e0-ce07-5da0d7ece695"
      },
      "source": [
        "emptyy #shows garbege values"
      ],
      "execution_count": 112,
      "outputs": [
        {
          "output_type": "execute_result",
          "data": {
            "text/plain": [
              "array([[[1.94185980e-316, 2.79437461e+276, 1.27378631e+074,\n",
              "         2.63044058e+180],\n",
              "        [2.57726435e-312, 0.00000000e+000, 0.00000000e+000,\n",
              "         0.00000000e+000],\n",
              "        [0.00000000e+000, 0.00000000e+000, 0.00000000e+000,\n",
              "         0.00000000e+000],\n",
              "        [0.00000000e+000, 0.00000000e+000, 0.00000000e+000,\n",
              "         0.00000000e+000]],\n",
              "\n",
              "       [[0.00000000e+000, 0.00000000e+000, 0.00000000e+000,\n",
              "         0.00000000e+000],\n",
              "        [0.00000000e+000, 0.00000000e+000, 0.00000000e+000,\n",
              "         0.00000000e+000],\n",
              "        [0.00000000e+000, 0.00000000e+000, 0.00000000e+000,\n",
              "         0.00000000e+000],\n",
              "        [0.00000000e+000, 0.00000000e+000, 0.00000000e+000,\n",
              "         0.00000000e+000]],\n",
              "\n",
              "       [[0.00000000e+000, 0.00000000e+000, 0.00000000e+000,\n",
              "         0.00000000e+000],\n",
              "        [0.00000000e+000, 0.00000000e+000, 0.00000000e+000,\n",
              "         0.00000000e+000],\n",
              "        [0.00000000e+000, 0.00000000e+000, 0.00000000e+000,\n",
              "         0.00000000e+000],\n",
              "        [0.00000000e+000, 0.00000000e+000, 0.00000000e+000,\n",
              "         0.00000000e+000]],\n",
              "\n",
              "       [[0.00000000e+000, 0.00000000e+000, 0.00000000e+000,\n",
              "         0.00000000e+000],\n",
              "        [0.00000000e+000, 0.00000000e+000, 0.00000000e+000,\n",
              "         0.00000000e+000],\n",
              "        [0.00000000e+000, 0.00000000e+000, 0.00000000e+000,\n",
              "         0.00000000e+000],\n",
              "        [0.00000000e+000, 0.00000000e+000, 0.00000000e+000,\n",
              "         0.00000000e+000]]])"
            ]
          },
          "metadata": {
            "tags": []
          },
          "execution_count": 112
        }
      ]
    },
    {
      "cell_type": "code",
      "metadata": {
        "id": "XiFptuaI2Zr1",
        "colab_type": "code",
        "colab": {
          "base_uri": "https://localhost:8080/",
          "height": 68
        },
        "outputId": "e836a3a8-035c-4619-809e-2fc4301a2326"
      },
      "source": [
        "m3\n"
      ],
      "execution_count": 113,
      "outputs": [
        {
          "output_type": "execute_result",
          "data": {
            "text/plain": [
              "array([[ 0,  1,  2,  3,  4,  5],\n",
              "       [ 6,  7,  8,  9, 10, 11],\n",
              "       [12, 13, 14, 15, 16, 17]])"
            ]
          },
          "metadata": {
            "tags": []
          },
          "execution_count": 113
        }
      ]
    },
    {
      "cell_type": "code",
      "metadata": {
        "id": "TuO26zk83EM4",
        "colab_type": "code",
        "colab": {}
      },
      "source": [
        "like = np.zeros_like(m3)"
      ],
      "execution_count": 0,
      "outputs": []
    },
    {
      "cell_type": "code",
      "metadata": {
        "id": "Um6-GW7h3FVF",
        "colab_type": "code",
        "colab": {
          "base_uri": "https://localhost:8080/",
          "height": 68
        },
        "outputId": "be7da6a1-2b33-464c-9872-d2d785946d00"
      },
      "source": [
        "like #like takes shape and datatype of a tensor and change them to zeros"
      ],
      "execution_count": 115,
      "outputs": [
        {
          "output_type": "execute_result",
          "data": {
            "text/plain": [
              "array([[0, 0, 0, 0, 0, 0],\n",
              "       [0, 0, 0, 0, 0, 0],\n",
              "       [0, 0, 0, 0, 0, 0]])"
            ]
          },
          "metadata": {
            "tags": []
          },
          "execution_count": 115
        }
      ]
    },
    {
      "cell_type": "code",
      "metadata": {
        "id": "ZpgirB3r3HYN",
        "colab_type": "code",
        "colab": {}
      },
      "source": [
        "i =np.eye(3,3) #identity matrix have diagonal as 1 and its determinant as 1 as well"
      ],
      "execution_count": 0,
      "outputs": []
    },
    {
      "cell_type": "code",
      "metadata": {
        "id": "sNbzxgLM3i3I",
        "colab_type": "code",
        "colab": {
          "base_uri": "https://localhost:8080/",
          "height": 68
        },
        "outputId": "109ead26-2edc-43d2-9bda-b839cba59253"
      },
      "source": [
        "#astype changes datatype\n",
        "y = i.astype(\"int\")\n",
        "y"
      ],
      "execution_count": 120,
      "outputs": [
        {
          "output_type": "execute_result",
          "data": {
            "text/plain": [
              "array([[1, 0, 0],\n",
              "       [0, 1, 0],\n",
              "       [0, 0, 1]])"
            ]
          },
          "metadata": {
            "tags": []
          },
          "execution_count": 120
        }
      ]
    },
    {
      "cell_type": "code",
      "metadata": {
        "id": "baptkNlA4fEi",
        "colab_type": "code",
        "colab": {}
      },
      "source": [
        "alist = [90,86,87,45]"
      ],
      "execution_count": 0,
      "outputs": []
    },
    {
      "cell_type": "code",
      "metadata": {
        "id": "1q3oJ2O-5XQ7",
        "colab_type": "code",
        "colab": {
          "base_uri": "https://localhost:8080/",
          "height": 34
        },
        "outputId": "e0f3afcf-5466-4427-e369-53c76c3755d8"
      },
      "source": [
        "type(alist[0])"
      ],
      "execution_count": 122,
      "outputs": [
        {
          "output_type": "execute_result",
          "data": {
            "text/plain": [
              "int"
            ]
          },
          "metadata": {
            "tags": []
          },
          "execution_count": 122
        }
      ]
    },
    {
      "cell_type": "code",
      "metadata": {
        "id": "fVk_5xht5fTO",
        "colab_type": "code",
        "colab": {
          "base_uri": "https://localhost:8080/",
          "height": 34
        },
        "outputId": "9abb8adb-dd13-4157-d17f-ecccd9fa1d43"
      },
      "source": [
        "type(alist[0:3])"
      ],
      "execution_count": 123,
      "outputs": [
        {
          "output_type": "execute_result",
          "data": {
            "text/plain": [
              "list"
            ]
          },
          "metadata": {
            "tags": []
          },
          "execution_count": 123
        }
      ]
    },
    {
      "cell_type": "code",
      "metadata": {
        "id": "zVZXc0tk5lUL",
        "colab_type": "code",
        "colab": {
          "base_uri": "https://localhost:8080/",
          "height": 119
        },
        "outputId": "7941936b-8c55-4540-bace-8c3e1efc6546"
      },
      "source": [
        "#indexing and slicing on numpy\n",
        "#2D index and slice\n",
        "t2darr = np.arange(36).reshape(6,6)\n",
        "t2darr"
      ],
      "execution_count": 124,
      "outputs": [
        {
          "output_type": "execute_result",
          "data": {
            "text/plain": [
              "array([[ 0,  1,  2,  3,  4,  5],\n",
              "       [ 6,  7,  8,  9, 10, 11],\n",
              "       [12, 13, 14, 15, 16, 17],\n",
              "       [18, 19, 20, 21, 22, 23],\n",
              "       [24, 25, 26, 27, 28, 29],\n",
              "       [30, 31, 32, 33, 34, 35]])"
            ]
          },
          "metadata": {
            "tags": []
          },
          "execution_count": 124
        }
      ]
    },
    {
      "cell_type": "code",
      "metadata": {
        "id": "j8tBuo146SkA",
        "colab_type": "code",
        "colab": {
          "base_uri": "https://localhost:8080/",
          "height": 34
        },
        "outputId": "801b8e86-ce2d-4785-f70f-d286e02fd29e"
      },
      "source": [
        "t2darr[3,2] #2dindexing "
      ],
      "execution_count": 125,
      "outputs": [
        {
          "output_type": "execute_result",
          "data": {
            "text/plain": [
              "20"
            ]
          },
          "metadata": {
            "tags": []
          },
          "execution_count": 125
        }
      ]
    },
    {
      "cell_type": "code",
      "metadata": {
        "id": "jZrpnwTg6aKp",
        "colab_type": "code",
        "colab": {
          "base_uri": "https://localhost:8080/",
          "height": 34
        },
        "outputId": "baae8da4-42b8-4628-e7a0-f1ae0012d550"
      },
      "source": [
        "t2darr [3][2]  #2dindexing "
      ],
      "execution_count": 126,
      "outputs": [
        {
          "output_type": "execute_result",
          "data": {
            "text/plain": [
              "20"
            ]
          },
          "metadata": {
            "tags": []
          },
          "execution_count": 126
        }
      ]
    },
    {
      "cell_type": "code",
      "metadata": {
        "id": "ptwiOhMf6jiv",
        "colab_type": "code",
        "colab": {
          "base_uri": "https://localhost:8080/",
          "height": 68
        },
        "outputId": "5ecf12dc-10f1-44e7-c271-bb713b8c51a7"
      },
      "source": [
        "#slicing\n",
        "t2darr[2:5,1:4] \n",
        "#/ [] into 2 parts [row,column]\n",
        "#[start:end, start:end]"
      ],
      "execution_count": 129,
      "outputs": [
        {
          "output_type": "execute_result",
          "data": {
            "text/plain": [
              "array([[13, 14, 15],\n",
              "       [19, 20, 21],\n",
              "       [25, 26, 27]])"
            ]
          },
          "metadata": {
            "tags": []
          },
          "execution_count": 129
        }
      ]
    },
    {
      "cell_type": "code",
      "metadata": {
        "id": "cz55w_607XSk",
        "colab_type": "code",
        "colab": {
          "base_uri": "https://localhost:8080/",
          "height": 34
        },
        "outputId": "b61f1582-9ef0-4494-c68d-b95c958a09e0"
      },
      "source": [
        "t2darr[5:,3:4] #here ans is 2d "
      ],
      "execution_count": 130,
      "outputs": [
        {
          "output_type": "execute_result",
          "data": {
            "text/plain": [
              "array([[33]])"
            ]
          },
          "metadata": {
            "tags": []
          },
          "execution_count": 130
        }
      ]
    },
    {
      "cell_type": "code",
      "metadata": {
        "id": "5T8ETF_G7pd6",
        "colab_type": "code",
        "colab": {
          "base_uri": "https://localhost:8080/",
          "height": 85
        },
        "outputId": "6f56bcd6-e9db-43e2-99c8-dcbae44b8ce8"
      },
      "source": [
        "t2darr[]"
      ],
      "execution_count": 131,
      "outputs": [
        {
          "output_type": "execute_result",
          "data": {
            "text/plain": [
              "array([[ 6,  7],\n",
              "       [12, 13],\n",
              "       [18, 19],\n",
              "       [24, 25]])"
            ]
          },
          "metadata": {
            "tags": []
          },
          "execution_count": 131
        }
      ]
    },
    {
      "cell_type": "code",
      "metadata": {
        "id": "QUHCAsX48JAs",
        "colab_type": "code",
        "colab": {}
      },
      "source": [
        ""
      ],
      "execution_count": 0,
      "outputs": []
    }
  ]
}